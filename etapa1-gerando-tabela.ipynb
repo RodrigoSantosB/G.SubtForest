{
 "cells": [
  {
   "cell_type": "markdown",
   "id": "3401b5cb",
   "metadata": {},
   "source": [
    "# Etapa 1\n",
    "\n",
    "Gera tabela com genes e subtipos moleculares"
   ]
  },
  {
   "cell_type": "code",
   "execution_count": 1,
   "id": "8c8f1f1c",
   "metadata": {},
   "outputs": [
    {
     "name": "stderr",
     "output_type": "stream",
     "text": [
      "C:\\Users\\IA\\anaconda3\\lib\\site-packages\\pandas\\core\\computation\\expressions.py:21: UserWarning: Pandas requires version '2.8.4' or newer of 'numexpr' (version '2.8.3' currently installed).\n",
      "  from pandas.core.computation.check import NUMEXPR_INSTALLED\n",
      "C:\\Users\\IA\\anaconda3\\lib\\site-packages\\pandas\\core\\arrays\\masked.py:60: UserWarning: Pandas requires version '1.3.6' or newer of 'bottleneck' (version '1.3.5' currently installed).\n",
      "  from pandas.core import (\n"
     ]
    }
   ],
   "source": [
    "import pandas as pd"
   ]
  },
  {
   "cell_type": "markdown",
   "id": "fec20eec",
   "metadata": {},
   "source": [
    "## 1.1 - Carrega tabelas de dados clínicos e genéticos"
   ]
  },
  {
   "cell_type": "code",
   "execution_count": 2,
   "id": "64bb1676",
   "metadata": {},
   "outputs": [],
   "source": [
    "# Carregar o primeiro arquivo CSV com as colunas 'Sample ID' e 'Subtype'\n",
    "clinical_data = pd.read_csv('Dados STAD clínico e patológico TCGA doutorado Julio.xlsx - data.csv', usecols=['Sample ID', 'Subtype'])\n",
    "\n",
    "# Carregar o segundo arquivo CSV com as colunas 'Sample_ID', 'gene' e 'effect'\n",
    "somatic_data = pd.read_csv('TCGA-STAD.varscan2_snv - TCGA-STAD.varscan2_snv.csv', usecols=['Sample_ID', 'gene', 'effect'])"
   ]
  },
  {
   "cell_type": "markdown",
   "id": "8ce969bb",
   "metadata": {},
   "source": [
    "### Informações sobre o conjunto de dados\n",
    "\n",
    "**Subtipos Moleculares**"
   ]
  },
  {
   "cell_type": "code",
   "execution_count": 3,
   "id": "279d73ee",
   "metadata": {},
   "outputs": [
    {
     "data": {
      "text/html": [
       "<div>\n",
       "<style scoped>\n",
       "    .dataframe tbody tr th:only-of-type {\n",
       "        vertical-align: middle;\n",
       "    }\n",
       "\n",
       "    .dataframe tbody tr th {\n",
       "        vertical-align: top;\n",
       "    }\n",
       "\n",
       "    .dataframe thead th {\n",
       "        text-align: right;\n",
       "    }\n",
       "</style>\n",
       "<table border=\"1\" class=\"dataframe\">\n",
       "  <thead>\n",
       "    <tr style=\"text-align: right;\">\n",
       "      <th></th>\n",
       "      <th>Sample ID</th>\n",
       "      <th>Subtype</th>\n",
       "    </tr>\n",
       "  </thead>\n",
       "  <tbody>\n",
       "    <tr>\n",
       "      <th>0</th>\n",
       "      <td>TCGA-BR-8077-01</td>\n",
       "      <td>STAD_CIN</td>\n",
       "    </tr>\n",
       "    <tr>\n",
       "      <th>1</th>\n",
       "      <td>TCGA-BR-8289-01</td>\n",
       "      <td>STAD_CIN</td>\n",
       "    </tr>\n",
       "    <tr>\n",
       "      <th>2</th>\n",
       "      <td>TCGA-BR-8291-01</td>\n",
       "      <td>STAD_CIN</td>\n",
       "    </tr>\n",
       "    <tr>\n",
       "      <th>3</th>\n",
       "      <td>TCGA-F1-6875-01</td>\n",
       "      <td>STAD_CIN</td>\n",
       "    </tr>\n",
       "    <tr>\n",
       "      <th>4</th>\n",
       "      <td>TCGA-D7-8574-01</td>\n",
       "      <td>STAD_GS</td>\n",
       "    </tr>\n",
       "  </tbody>\n",
       "</table>\n",
       "</div>"
      ],
      "text/plain": [
       "         Sample ID   Subtype\n",
       "0  TCGA-BR-8077-01  STAD_CIN\n",
       "1  TCGA-BR-8289-01  STAD_CIN\n",
       "2  TCGA-BR-8291-01  STAD_CIN\n",
       "3  TCGA-F1-6875-01  STAD_CIN\n",
       "4  TCGA-D7-8574-01   STAD_GS"
      ]
     },
     "execution_count": 3,
     "metadata": {},
     "output_type": "execute_result"
    }
   ],
   "source": [
    "clinical_data.head()"
   ]
  },
  {
   "cell_type": "code",
   "execution_count": 4,
   "id": "382201b3",
   "metadata": {},
   "outputs": [
    {
     "name": "stdout",
     "output_type": "stream",
     "text": [
      "Quanditade de casos diferentes: 383\n",
      "Quantidade da casos para cada subtipo:\n",
      "Subtype\n",
      "STAD_CIN     223\n",
      "STAD_MSI      73\n",
      "STAD_GS       50\n",
      "STAD_EBV      30\n",
      "STAD_POLE      7\n",
      "Name: count, dtype: int64\n"
     ]
    }
   ],
   "source": [
    "clinical_data = clinical_data.dropna()\n",
    "n_cases = len(clinical_data['Sample ID'].unique())\n",
    "print(f\"Quanditade de casos diferentes: {n_cases}\")\n",
    "print('Quantidade da casos para cada subtipo:')\n",
    "print(clinical_data['Subtype'].value_counts())"
   ]
  },
  {
   "cell_type": "code",
   "execution_count": 5,
   "id": "614e3570",
   "metadata": {},
   "outputs": [
    {
     "name": "stdout",
     "output_type": "stream",
     "text": [
      "Portcentagem por classe: \n",
      "cin: 58.22% \n",
      "msi: 19.06% \n",
      "gs:  13.05% \n",
      "ebv:  7.83% \n",
      "pole: 1.83%\n"
     ]
    }
   ],
   "source": [
    "n_cin_cases = clinical_data['Subtype'].value_counts()['STAD_CIN']\n",
    "n_msi_cases = clinical_data['Subtype'].value_counts()['STAD_MSI']\n",
    "n_gs_cases = clinical_data['Subtype'].value_counts()['STAD_GS']\n",
    "n_ebv_cases = clinical_data['Subtype'].value_counts()['STAD_EBV']\n",
    "n_pole_cases = clinical_data['Subtype'].value_counts()['STAD_POLE']\n",
    "print(f'''Portcentagem por classe: \n",
    "cin: {100*n_cin_cases/n_cases:.2f}% \n",
    "msi: {100*n_msi_cases/n_cases:.2f}% \n",
    "gs:  {100*n_gs_cases/n_cases:.2f}% \n",
    "ebv:  {100*n_ebv_cases/n_cases:.2f}% \n",
    "pole: {100*n_pole_cases/n_cases:.2f}%''')"
   ]
  },
  {
   "cell_type": "markdown",
   "id": "b41044d8",
   "metadata": {},
   "source": [
    "**SNV**"
   ]
  },
  {
   "cell_type": "code",
   "execution_count": 6,
   "id": "89f795ed",
   "metadata": {},
   "outputs": [
    {
     "data": {
      "text/html": [
       "<div>\n",
       "<style scoped>\n",
       "    .dataframe tbody tr th:only-of-type {\n",
       "        vertical-align: middle;\n",
       "    }\n",
       "\n",
       "    .dataframe tbody tr th {\n",
       "        vertical-align: top;\n",
       "    }\n",
       "\n",
       "    .dataframe thead th {\n",
       "        text-align: right;\n",
       "    }\n",
       "</style>\n",
       "<table border=\"1\" class=\"dataframe\">\n",
       "  <thead>\n",
       "    <tr style=\"text-align: right;\">\n",
       "      <th></th>\n",
       "      <th>gene</th>\n",
       "      <th>Sample_ID</th>\n",
       "      <th>effect</th>\n",
       "    </tr>\n",
       "  </thead>\n",
       "  <tbody>\n",
       "    <tr>\n",
       "      <th>0</th>\n",
       "      <td>CLSTN1</td>\n",
       "      <td>TCGA-BR-7723-01A</td>\n",
       "      <td>missense_variant</td>\n",
       "    </tr>\n",
       "    <tr>\n",
       "      <th>1</th>\n",
       "      <td>PNRC2</td>\n",
       "      <td>TCGA-BR-7723-01A</td>\n",
       "      <td>frameshift_variant</td>\n",
       "    </tr>\n",
       "    <tr>\n",
       "      <th>2</th>\n",
       "      <td>AGBL4</td>\n",
       "      <td>TCGA-BR-7723-01A</td>\n",
       "      <td>intron_variant</td>\n",
       "    </tr>\n",
       "    <tr>\n",
       "      <th>3</th>\n",
       "      <td>LRRIQ3</td>\n",
       "      <td>TCGA-BR-7723-01A</td>\n",
       "      <td>missense_variant</td>\n",
       "    </tr>\n",
       "    <tr>\n",
       "      <th>4</th>\n",
       "      <td>TNNI3K</td>\n",
       "      <td>TCGA-BR-7723-01A</td>\n",
       "      <td>missense_variant</td>\n",
       "    </tr>\n",
       "  </tbody>\n",
       "</table>\n",
       "</div>"
      ],
      "text/plain": [
       "     gene         Sample_ID              effect\n",
       "0  CLSTN1  TCGA-BR-7723-01A    missense_variant\n",
       "1   PNRC2  TCGA-BR-7723-01A  frameshift_variant\n",
       "2   AGBL4  TCGA-BR-7723-01A      intron_variant\n",
       "3  LRRIQ3  TCGA-BR-7723-01A    missense_variant\n",
       "4  TNNI3K  TCGA-BR-7723-01A    missense_variant"
      ]
     },
     "execution_count": 6,
     "metadata": {},
     "output_type": "execute_result"
    }
   ],
   "source": [
    "somatic_data.head()"
   ]
  },
  {
   "cell_type": "code",
   "execution_count": 7,
   "id": "decab01f",
   "metadata": {},
   "outputs": [
    {
     "name": "stdout",
     "output_type": "stream",
     "text": [
      "Quanditade total de amostras: 187748\n",
      "Quantidade de casos diferentes: 433\n"
     ]
    }
   ],
   "source": [
    "print(f\"Quanditade total de amostras: {len(somatic_data['Sample_ID'])}\")\n",
    "print(f\"Quantidade de casos diferentes: {len(somatic_data['Sample_ID'].unique())}\")"
   ]
  },
  {
   "cell_type": "markdown",
   "id": "d09deadf",
   "metadata": {},
   "source": [
    "## 1.2 - Altera nome da coluna `Semple_ID` para mesclar as duas tabelas"
   ]
  },
  {
   "cell_type": "code",
   "execution_count": 8,
   "id": "ecd4c051",
   "metadata": {},
   "outputs": [
    {
     "data": {
      "text/html": [
       "<div>\n",
       "<style scoped>\n",
       "    .dataframe tbody tr th:only-of-type {\n",
       "        vertical-align: middle;\n",
       "    }\n",
       "\n",
       "    .dataframe tbody tr th {\n",
       "        vertical-align: top;\n",
       "    }\n",
       "\n",
       "    .dataframe thead th {\n",
       "        text-align: right;\n",
       "    }\n",
       "</style>\n",
       "<table border=\"1\" class=\"dataframe\">\n",
       "  <thead>\n",
       "    <tr style=\"text-align: right;\">\n",
       "      <th></th>\n",
       "      <th>Sample ID</th>\n",
       "      <th>Subtype</th>\n",
       "    </tr>\n",
       "  </thead>\n",
       "  <tbody>\n",
       "    <tr>\n",
       "      <th>0</th>\n",
       "      <td>TCGA-BR-8077</td>\n",
       "      <td>STAD_CIN</td>\n",
       "    </tr>\n",
       "    <tr>\n",
       "      <th>1</th>\n",
       "      <td>TCGA-BR-8289</td>\n",
       "      <td>STAD_CIN</td>\n",
       "    </tr>\n",
       "    <tr>\n",
       "      <th>2</th>\n",
       "      <td>TCGA-BR-8291</td>\n",
       "      <td>STAD_CIN</td>\n",
       "    </tr>\n",
       "    <tr>\n",
       "      <th>3</th>\n",
       "      <td>TCGA-F1-6875</td>\n",
       "      <td>STAD_CIN</td>\n",
       "    </tr>\n",
       "    <tr>\n",
       "      <th>4</th>\n",
       "      <td>TCGA-D7-8574</td>\n",
       "      <td>STAD_GS</td>\n",
       "    </tr>\n",
       "  </tbody>\n",
       "</table>\n",
       "</div>"
      ],
      "text/plain": [
       "      Sample ID   Subtype\n",
       "0  TCGA-BR-8077  STAD_CIN\n",
       "1  TCGA-BR-8289  STAD_CIN\n",
       "2  TCGA-BR-8291  STAD_CIN\n",
       "3  TCGA-F1-6875  STAD_CIN\n",
       "4  TCGA-D7-8574   STAD_GS"
      ]
     },
     "execution_count": 8,
     "metadata": {},
     "output_type": "execute_result"
    }
   ],
   "source": [
    "# Removendo os ultimo caracteres do formato TCGA-SW-A7EB-01\n",
    "clinical_data['Sample ID'] = clinical_data['Sample ID'].str[:12]\n",
    "\n",
    "clinical_data.head()"
   ]
  },
  {
   "cell_type": "code",
   "execution_count": 9,
   "id": "61567169",
   "metadata": {},
   "outputs": [
    {
     "data": {
      "text/html": [
       "<div>\n",
       "<style scoped>\n",
       "    .dataframe tbody tr th:only-of-type {\n",
       "        vertical-align: middle;\n",
       "    }\n",
       "\n",
       "    .dataframe tbody tr th {\n",
       "        vertical-align: top;\n",
       "    }\n",
       "\n",
       "    .dataframe thead th {\n",
       "        text-align: right;\n",
       "    }\n",
       "</style>\n",
       "<table border=\"1\" class=\"dataframe\">\n",
       "  <thead>\n",
       "    <tr style=\"text-align: right;\">\n",
       "      <th></th>\n",
       "      <th>gene</th>\n",
       "      <th>Sample ID</th>\n",
       "      <th>effect</th>\n",
       "    </tr>\n",
       "  </thead>\n",
       "  <tbody>\n",
       "    <tr>\n",
       "      <th>0</th>\n",
       "      <td>CLSTN1</td>\n",
       "      <td>TCGA-BR-7723</td>\n",
       "      <td>missense_variant</td>\n",
       "    </tr>\n",
       "    <tr>\n",
       "      <th>1</th>\n",
       "      <td>PNRC2</td>\n",
       "      <td>TCGA-BR-7723</td>\n",
       "      <td>frameshift_variant</td>\n",
       "    </tr>\n",
       "    <tr>\n",
       "      <th>2</th>\n",
       "      <td>AGBL4</td>\n",
       "      <td>TCGA-BR-7723</td>\n",
       "      <td>intron_variant</td>\n",
       "    </tr>\n",
       "    <tr>\n",
       "      <th>3</th>\n",
       "      <td>LRRIQ3</td>\n",
       "      <td>TCGA-BR-7723</td>\n",
       "      <td>missense_variant</td>\n",
       "    </tr>\n",
       "    <tr>\n",
       "      <th>4</th>\n",
       "      <td>TNNI3K</td>\n",
       "      <td>TCGA-BR-7723</td>\n",
       "      <td>missense_variant</td>\n",
       "    </tr>\n",
       "  </tbody>\n",
       "</table>\n",
       "</div>"
      ],
      "text/plain": [
       "     gene     Sample ID              effect\n",
       "0  CLSTN1  TCGA-BR-7723    missense_variant\n",
       "1   PNRC2  TCGA-BR-7723  frameshift_variant\n",
       "2   AGBL4  TCGA-BR-7723      intron_variant\n",
       "3  LRRIQ3  TCGA-BR-7723    missense_variant\n",
       "4  TNNI3K  TCGA-BR-7723    missense_variant"
      ]
     },
     "execution_count": 9,
     "metadata": {},
     "output_type": "execute_result"
    }
   ],
   "source": [
    "# Renomear a coluna 'Sample_ID' no segundo DataFrame para 'Sample ID' para facilitar o merge\n",
    "somatic_data = somatic_data.rename(columns={'Sample_ID': 'Sample ID'})\n",
    "\n",
    "#Removendo o ultimo caractere do formato TCGA-SW-A7EB-01A\n",
    "somatic_data['Sample ID'] = somatic_data['Sample ID'].str[:12]\n",
    "somatic_data.head()"
   ]
  },
  {
   "cell_type": "markdown",
   "id": "19d54489",
   "metadata": {},
   "source": [
    "## 1.3 - Mescla as duas tabelas "
   ]
  },
  {
   "cell_type": "code",
   "execution_count": 15,
   "id": "55decb60",
   "metadata": {},
   "outputs": [
    {
     "data": {
      "text/html": [
       "<div>\n",
       "<style scoped>\n",
       "    .dataframe tbody tr th:only-of-type {\n",
       "        vertical-align: middle;\n",
       "    }\n",
       "\n",
       "    .dataframe tbody tr th {\n",
       "        vertical-align: top;\n",
       "    }\n",
       "\n",
       "    .dataframe thead th {\n",
       "        text-align: right;\n",
       "    }\n",
       "</style>\n",
       "<table border=\"1\" class=\"dataframe\">\n",
       "  <thead>\n",
       "    <tr style=\"text-align: right;\">\n",
       "      <th></th>\n",
       "      <th>Sample ID</th>\n",
       "      <th>Subtype</th>\n",
       "      <th>gene</th>\n",
       "      <th>effect</th>\n",
       "    </tr>\n",
       "  </thead>\n",
       "  <tbody>\n",
       "    <tr>\n",
       "      <th>0</th>\n",
       "      <td>TCGA-BR-8077</td>\n",
       "      <td>STAD_CIN</td>\n",
       "      <td>MACF1</td>\n",
       "      <td>missense_variant</td>\n",
       "    </tr>\n",
       "    <tr>\n",
       "      <th>1</th>\n",
       "      <td>TCGA-BR-8077</td>\n",
       "      <td>STAD_CIN</td>\n",
       "      <td>GTF2B</td>\n",
       "      <td>missense_variant</td>\n",
       "    </tr>\n",
       "    <tr>\n",
       "      <th>2</th>\n",
       "      <td>TCGA-BR-8077</td>\n",
       "      <td>STAD_CIN</td>\n",
       "      <td>NBPF9</td>\n",
       "      <td>missense_variant</td>\n",
       "    </tr>\n",
       "    <tr>\n",
       "      <th>3</th>\n",
       "      <td>TCGA-BR-8077</td>\n",
       "      <td>STAD_CIN</td>\n",
       "      <td>S100A7L2</td>\n",
       "      <td>missense_variant</td>\n",
       "    </tr>\n",
       "    <tr>\n",
       "      <th>4</th>\n",
       "      <td>TCGA-BR-8077</td>\n",
       "      <td>STAD_CIN</td>\n",
       "      <td>APOA2</td>\n",
       "      <td>synonymous_variant</td>\n",
       "    </tr>\n",
       "  </tbody>\n",
       "</table>\n",
       "</div>"
      ],
      "text/plain": [
       "      Sample ID   Subtype      gene              effect\n",
       "0  TCGA-BR-8077  STAD_CIN     MACF1    missense_variant\n",
       "1  TCGA-BR-8077  STAD_CIN     GTF2B    missense_variant\n",
       "2  TCGA-BR-8077  STAD_CIN     NBPF9    missense_variant\n",
       "3  TCGA-BR-8077  STAD_CIN  S100A7L2    missense_variant\n",
       "4  TCGA-BR-8077  STAD_CIN     APOA2  synonymous_variant"
      ]
     },
     "execution_count": 15,
     "metadata": {},
     "output_type": "execute_result"
    }
   ],
   "source": [
    "# Mesclar os DataFrames com base na coluna 'Sample ID'\n",
    "merged_data = pd.merge(clinical_data, somatic_data, on='Sample ID', how='inner')\n",
    "\n",
    "merged_data.head()"
   ]
  },
  {
   "cell_type": "markdown",
   "id": "a5c004b2",
   "metadata": {},
   "source": [
    "### 1.4 - Fazendo operações na tabela mesclada"
   ]
  },
  {
   "cell_type": "markdown",
   "id": "37e1e653",
   "metadata": {},
   "source": [
    "As amostras que possuem na coluna `effect` o valor `synonymous_variant` são irrelevantes para esse estudo. Por isso serão exluida todas as amostras com esse valor. "
   ]
  },
  {
   "cell_type": "code",
   "execution_count": 11,
   "id": "f363d481",
   "metadata": {},
   "outputs": [
    {
     "name": "stdout",
     "output_type": "stream",
     "text": [
      "Foram excluidas: 57946 amostras \n",
      "Restando:\n",
      "- Casos: 378\n",
      "- Amostras: 129802\n"
     ]
    }
   ],
   "source": [
    "# Excluir os que são effect = 'synonymous_variant'\n",
    "snp_subtype_missense_data = merged_data[merged_data['effect'] != 'synonymous_variant']\n",
    "\n",
    "print(f\"Foram excluidas: {len(somatic_data['Sample ID']) - len(snp_subtype_missense_data['Sample ID'])} amostras \\nRestando:\")\n",
    "print(f\"- Casos: {len(snp_subtype_missense_data['Sample ID'].unique())}\")\n",
    "print(f\"- Amostras: {len(snp_subtype_missense_data['Sample ID'])}\")"
   ]
  },
  {
   "cell_type": "markdown",
   "id": "3424fb46",
   "metadata": {},
   "source": [
    "## 1.5 - Transoforma genes em colunas \n",
    "\n",
    "Transforma a tabela para que os genes se tornem coluna e que a tabela expresse a presença de cada gene por subtipo molecular."
   ]
  },
  {
   "cell_type": "code",
   "execution_count": 16,
   "id": "3402144b",
   "metadata": {},
   "outputs": [],
   "source": [
    "df = snp_subtype_missense_data.drop(columns=['effect'])\n",
    "\n",
    "# Criar uma tabela pivotada onde os genes se tornam colunas com 1 ou 0\n",
    "df_pivot = df.pivot_table(index=['Sample ID', 'Subtype'], columns='gene', aggfunc=lambda x: 1, fill_value=0)\n",
    "\n",
    "# Redefinir o índice para transformar em um DataFrame simples\n",
    "df_final = df_pivot.reset_index()"
   ]
  },
  {
   "cell_type": "code",
   "execution_count": 17,
   "id": "0947d185",
   "metadata": {},
   "outputs": [
    {
     "name": "stdout",
     "output_type": "stream",
     "text": [
      "Subtype\n",
      "STAD_CIN    223\n",
      "STAD_MSI     73\n",
      "STAD_GS      45\n",
      "STAD_EBV     30\n",
      "Name: count, dtype: int64\n",
      "Dimensções finais do dataset: (371, 18293)\n"
     ]
    },
    {
     "data": {
      "text/html": [
       "<div>\n",
       "<style scoped>\n",
       "    .dataframe tbody tr th:only-of-type {\n",
       "        vertical-align: middle;\n",
       "    }\n",
       "\n",
       "    .dataframe tbody tr th {\n",
       "        vertical-align: top;\n",
       "    }\n",
       "\n",
       "    .dataframe thead th {\n",
       "        text-align: right;\n",
       "    }\n",
       "</style>\n",
       "<table border=\"1\" class=\"dataframe\">\n",
       "  <thead>\n",
       "    <tr style=\"text-align: right;\">\n",
       "      <th>gene</th>\n",
       "      <th>Sample ID</th>\n",
       "      <th>Subtype</th>\n",
       "      <th>A1BG</th>\n",
       "      <th>A1CF</th>\n",
       "      <th>A2M</th>\n",
       "      <th>A2ML1</th>\n",
       "      <th>A3GALT2</th>\n",
       "      <th>A4GALT</th>\n",
       "      <th>A4GNT</th>\n",
       "      <th>AAAS</th>\n",
       "      <th>...</th>\n",
       "      <th>ZXDC</th>\n",
       "      <th>ZYG11B</th>\n",
       "      <th>ZYX</th>\n",
       "      <th>ZZEF1</th>\n",
       "      <th>ZZZ3</th>\n",
       "      <th>ago.1</th>\n",
       "      <th>ago.2</th>\n",
       "      <th>ago.3</th>\n",
       "      <th>ago.4</th>\n",
       "      <th>pk</th>\n",
       "    </tr>\n",
       "  </thead>\n",
       "  <tbody>\n",
       "    <tr>\n",
       "      <th>0</th>\n",
       "      <td>TCGA-3M-AB46</td>\n",
       "      <td>cin</td>\n",
       "      <td>1</td>\n",
       "      <td>1</td>\n",
       "      <td>0</td>\n",
       "      <td>0</td>\n",
       "      <td>0</td>\n",
       "      <td>0</td>\n",
       "      <td>0</td>\n",
       "      <td>0</td>\n",
       "      <td>...</td>\n",
       "      <td>0</td>\n",
       "      <td>0</td>\n",
       "      <td>0</td>\n",
       "      <td>0</td>\n",
       "      <td>0</td>\n",
       "      <td>0</td>\n",
       "      <td>0</td>\n",
       "      <td>0</td>\n",
       "      <td>0</td>\n",
       "      <td>0</td>\n",
       "    </tr>\n",
       "    <tr>\n",
       "      <th>1</th>\n",
       "      <td>TCGA-3M-AB47</td>\n",
       "      <td>gs</td>\n",
       "      <td>0</td>\n",
       "      <td>0</td>\n",
       "      <td>0</td>\n",
       "      <td>0</td>\n",
       "      <td>0</td>\n",
       "      <td>0</td>\n",
       "      <td>0</td>\n",
       "      <td>0</td>\n",
       "      <td>...</td>\n",
       "      <td>0</td>\n",
       "      <td>0</td>\n",
       "      <td>0</td>\n",
       "      <td>0</td>\n",
       "      <td>0</td>\n",
       "      <td>0</td>\n",
       "      <td>0</td>\n",
       "      <td>0</td>\n",
       "      <td>0</td>\n",
       "      <td>0</td>\n",
       "    </tr>\n",
       "    <tr>\n",
       "      <th>2</th>\n",
       "      <td>TCGA-B7-5816</td>\n",
       "      <td>msi</td>\n",
       "      <td>0</td>\n",
       "      <td>0</td>\n",
       "      <td>0</td>\n",
       "      <td>0</td>\n",
       "      <td>0</td>\n",
       "      <td>0</td>\n",
       "      <td>0</td>\n",
       "      <td>1</td>\n",
       "      <td>...</td>\n",
       "      <td>0</td>\n",
       "      <td>0</td>\n",
       "      <td>0</td>\n",
       "      <td>0</td>\n",
       "      <td>0</td>\n",
       "      <td>0</td>\n",
       "      <td>0</td>\n",
       "      <td>0</td>\n",
       "      <td>0</td>\n",
       "      <td>0</td>\n",
       "    </tr>\n",
       "    <tr>\n",
       "      <th>3</th>\n",
       "      <td>TCGA-B7-5818</td>\n",
       "      <td>ebv</td>\n",
       "      <td>0</td>\n",
       "      <td>0</td>\n",
       "      <td>0</td>\n",
       "      <td>0</td>\n",
       "      <td>0</td>\n",
       "      <td>0</td>\n",
       "      <td>0</td>\n",
       "      <td>0</td>\n",
       "      <td>...</td>\n",
       "      <td>0</td>\n",
       "      <td>0</td>\n",
       "      <td>0</td>\n",
       "      <td>0</td>\n",
       "      <td>0</td>\n",
       "      <td>0</td>\n",
       "      <td>0</td>\n",
       "      <td>0</td>\n",
       "      <td>0</td>\n",
       "      <td>0</td>\n",
       "    </tr>\n",
       "    <tr>\n",
       "      <th>4</th>\n",
       "      <td>TCGA-B7-A5TI</td>\n",
       "      <td>msi</td>\n",
       "      <td>0</td>\n",
       "      <td>0</td>\n",
       "      <td>0</td>\n",
       "      <td>0</td>\n",
       "      <td>0</td>\n",
       "      <td>0</td>\n",
       "      <td>0</td>\n",
       "      <td>0</td>\n",
       "      <td>...</td>\n",
       "      <td>0</td>\n",
       "      <td>0</td>\n",
       "      <td>0</td>\n",
       "      <td>0</td>\n",
       "      <td>0</td>\n",
       "      <td>0</td>\n",
       "      <td>0</td>\n",
       "      <td>0</td>\n",
       "      <td>0</td>\n",
       "      <td>0</td>\n",
       "    </tr>\n",
       "  </tbody>\n",
       "</table>\n",
       "<p>5 rows × 18293 columns</p>\n",
       "</div>"
      ],
      "text/plain": [
       "gene     Sample ID Subtype  A1BG  A1CF  A2M  A2ML1  A3GALT2  A4GALT  A4GNT  \\\n",
       "0     TCGA-3M-AB46     cin     1     1    0      0        0       0      0   \n",
       "1     TCGA-3M-AB47      gs     0     0    0      0        0       0      0   \n",
       "2     TCGA-B7-5816     msi     0     0    0      0        0       0      0   \n",
       "3     TCGA-B7-5818     ebv     0     0    0      0        0       0      0   \n",
       "4     TCGA-B7-A5TI     msi     0     0    0      0        0       0      0   \n",
       "\n",
       "gene  AAAS  ...  ZXDC  ZYG11B  ZYX  ZZEF1  ZZZ3  ago.1  ago.2  ago.3  ago.4  \\\n",
       "0        0  ...     0       0    0      0     0      0      0      0      0   \n",
       "1        0  ...     0       0    0      0     0      0      0      0      0   \n",
       "2        1  ...     0       0    0      0     0      0      0      0      0   \n",
       "3        0  ...     0       0    0      0     0      0      0      0      0   \n",
       "4        0  ...     0       0    0      0     0      0      0      0      0   \n",
       "\n",
       "gene  pk  \n",
       "0      0  \n",
       "1      0  \n",
       "2      0  \n",
       "3      0  \n",
       "4      0  \n",
       "\n",
       "[5 rows x 18293 columns]"
      ]
     },
     "execution_count": 17,
     "metadata": {},
     "output_type": "execute_result"
    }
   ],
   "source": [
    "# Removendo os casos POLE que não são utilizados no estudo\n",
    "n_pole = df_final['Subtype'] != 'STAD_POLE'\n",
    "df_final = df_final[n_pole]\n",
    "print(df_final['Subtype'].value_counts())\n",
    "print(f'Dimensções finais do dataset: {df_final.shape}')\n",
    "\n",
    "# Renomeando subtipos para minúsculo e retirando 'STAD_'\n",
    "df_final['Subtype'] = df_final['Subtype'].apply((lambda x: x.split('_')[1].lower()))\n",
    "df_final.head()"
   ]
  },
  {
   "cell_type": "code",
   "execution_count": 18,
   "id": "19a218c2",
   "metadata": {},
   "outputs": [],
   "source": [
    "df_final.to_csv('outputs/gene_subtype_table.csv')"
   ]
  },
  {
   "cell_type": "code",
   "execution_count": null,
   "id": "b57c9f39",
   "metadata": {},
   "outputs": [],
   "source": []
  }
 ],
 "metadata": {
  "kernelspec": {
   "display_name": "Python 3 (ipykernel)",
   "language": "python",
   "name": "python3"
  },
  "language_info": {
   "codemirror_mode": {
    "name": "ipython",
    "version": 3
   },
   "file_extension": ".py",
   "mimetype": "text/x-python",
   "name": "python",
   "nbconvert_exporter": "python",
   "pygments_lexer": "ipython3",
   "version": "3.9.13"
  }
 },
 "nbformat": 4,
 "nbformat_minor": 5
}
